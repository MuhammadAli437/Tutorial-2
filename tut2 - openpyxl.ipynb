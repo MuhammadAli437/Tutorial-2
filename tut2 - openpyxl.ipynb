{
 "cells": [
  {
   "cell_type": "markdown",
   "metadata": {},
   "source": [
    "<div class=\"alert alert-block alert-info\">\n",
    "<b>Openpyxl intro from docs:</b> openpyxl is a Python library to read/write Excel 2010 xlsx/xlsm/xltx/xltm files.\n",
    "\n",
    "It was born from lack of existing library to read/write natively from Python the Office Open XML format.\n",
    "</div>"
   ]
  },
  {
   "cell_type": "markdown",
   "metadata": {},
   "source": [
    "<div class=\"alert alert-block alert-danger\">\n",
    "<b>Heads up! </b> openpyxl doesnt support csv file formats\n",
    "</div>\n"
   ]
  },
  {
   "cell_type": "code",
   "execution_count": 1,
   "metadata": {},
   "outputs": [],
   "source": [
    "# imports\n",
    "import openpyxl as pyxl # can use any other abbreviation\n",
    "from openpyxl.styles import PatternFill\n",
    "from openpyxl import load_workbook\n",
    "from openpyxl.utils import get_column_letter\n",
    "from openpyxl.styles import Color, PatternFill, Font, Border\n",
    "from openpyxl.styles import Font\n",
    "from openpyxl.styles.colors import Color\n",
    "\n",
    "from openpyxl_get_col_letter_module import * # custom module I created for own use"
   ]
  },
  {
   "cell_type": "markdown",
   "metadata": {},
   "source": [
    "## <font color='purple'>1- load workbook, apply freeze & filter</font>"
   ]
  },
  {
   "cell_type": "code",
   "execution_count": 2,
   "metadata": {},
   "outputs": [],
   "source": [
    "file_name = 'walmart_2018_11_06.xlsx'\n",
    "\n",
    "wb = pyxl.load_workbook(file_name)\n",
    "# ws = wb.active\n",
    "ws = wb['test_data']"
   ]
  },
  {
   "cell_type": "code",
   "execution_count": 3,
   "metadata": {},
   "outputs": [
    {
     "data": {
      "text/plain": [
       "<Worksheet \"test_data\">"
      ]
     },
     "execution_count": 3,
     "metadata": {},
     "output_type": "execute_result"
    }
   ],
   "source": [
    "ws"
   ]
  },
  {
   "cell_type": "code",
   "execution_count": 4,
   "metadata": {},
   "outputs": [
    {
     "name": "stdout",
     "output_type": "stream",
     "text": [
      "16\n",
      "P\n"
     ]
    }
   ],
   "source": [
    "# get column number\n",
    "print(ws.max_column)\n",
    "\n",
    "# get column letter\n",
    "print(get_column_letter(ws.max_column))"
   ]
  },
  {
   "cell_type": "code",
   "execution_count": 5,
   "metadata": {},
   "outputs": [
    {
     "data": {
      "text/plain": [
       "'A1:P502'"
      ]
     },
     "execution_count": 5,
     "metadata": {},
     "output_type": "execute_result"
    }
   ],
   "source": [
    "FullRange = \"A1:\" + get_column_letter(ws.max_column) + str(ws.max_row)\n",
    "FullRange"
   ]
  },
  {
   "cell_type": "code",
   "execution_count": 6,
   "metadata": {},
   "outputs": [],
   "source": [
    "for sheet in wb.worksheets:\n",
    "#     print(sheet) # to get list of all sheets\n",
    "    \n",
    "    # freeze\n",
    "    sheet.freeze_panes = 'A2'\n",
    "    \n",
    "    # apply filter\n",
    "    FullRange = \"A1:\" + get_column_letter(sheet.max_column) + str(sheet.max_row)\n",
    "    sheet.auto_filter.ref = FullRange"
   ]
  },
  {
   "cell_type": "markdown",
   "metadata": {},
   "source": [
    "## <font color='purple'>2-fix header formatting</font>"
   ]
  },
  {
   "cell_type": "code",
   "execution_count": 7,
   "metadata": {},
   "outputs": [
    {
     "name": "stdout",
     "output_type": "stream",
     "text": [
      "1\n",
      "16\n"
     ]
    }
   ],
   "source": [
    "print(ws.min_column)\n",
    "print(ws.max_column)"
   ]
  },
  {
   "cell_type": "code",
   "execution_count": 8,
   "metadata": {},
   "outputs": [
    {
     "name": "stderr",
     "output_type": "stream",
     "text": [
      "<ipython-input-8-effb8cec49fd>:5: DeprecationWarning: Call to deprecated function copy (Use copy(obj) or cell.obj = cell.obj + other).\n",
      "  cell.font = cell.font.copy(bold=True, italic=False)\n"
     ]
    }
   ],
   "source": [
    "for rows in ws.iter_rows(min_row=ws.min_row, max_row=ws.min_row, min_col=ws.min_column, max_col=ws.max_column):\n",
    "    for cell in rows:\n",
    "        cell.fill = PatternFill(start_color='990033', end_color='990033', fill_type=\"solid\")\n",
    "        cell.font = Font(color = \"ffffcc\")\n",
    "        cell.font = cell.font.copy(bold=True, italic=False)"
   ]
  },
  {
   "cell_type": "markdown",
   "metadata": {},
   "source": [
    "## <font color='purple'>3-fix column width & date formats</font>"
   ]
  },
  {
   "cell_type": "code",
   "execution_count": 9,
   "metadata": {},
   "outputs": [],
   "source": [
    "for col in get_colz_letter(['date_started', 'days_since_start'], ws):\n",
    "    ws.column_dimensions[col].width = 11\n",
    "    for cell in ws[col]:\n",
    "        cell.number_format = \"MM/DD/YYYY\"\n",
    "# wb.save(file_dest)"
   ]
  },
  {
   "cell_type": "markdown",
   "metadata": {},
   "source": [
    "## <font color='purple'>load and conditional format the file</font>\n",
    "### <font color='purple'>4-color all rows yellow where count of store name > 5 (Column N in walmart_2018_11_06.xlsx)</font>\n"
   ]
  },
  {
   "cell_type": "code",
   "execution_count": 13,
   "metadata": {},
   "outputs": [],
   "source": [
    "yellow = \"ffd966\"\n",
    "\n",
    "\n",
    "for cell in ws['N']:\n",
    "#     print(cell.value)\n",
    "    try:\n",
    "        if float(cell.value) > 5:\n",
    "#             print(cell.value)\n",
    "            for cell in ws[cell.row:cell.row]:\n",
    "                cell.fill = PatternFill(start_color=yellow, end_color=yellow,\n",
    "                                        fill_type=\"solid\")\n",
    "    except ValueError:\n",
    "        pass"
   ]
  },
  {
   "cell_type": "code",
   "execution_count": 14,
   "metadata": {},
   "outputs": [],
   "source": [
    "save_dest = 'walmart_2018_11_06_fixed.xlsx'\n",
    "\n",
    "wb.save(save_dest)"
   ]
  },
  {
   "cell_type": "code",
   "execution_count": null,
   "metadata": {},
   "outputs": [],
   "source": []
  }
 ],
 "metadata": {
  "kernelspec": {
   "display_name": "Python 3",
   "language": "python",
   "name": "python3"
  },
  "language_info": {
   "codemirror_mode": {
    "name": "ipython",
    "version": 3
   },
   "file_extension": ".py",
   "mimetype": "text/x-python",
   "name": "python",
   "nbconvert_exporter": "python",
   "pygments_lexer": "ipython3",
   "version": "3.9.0"
  }
 },
 "nbformat": 4,
 "nbformat_minor": 4
}
